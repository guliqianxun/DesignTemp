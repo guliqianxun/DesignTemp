{
 "metadata": {
  "language_info": {
   "codemirror_mode": {
    "name": "ipython",
    "version": 3
   },
   "file_extension": ".py",
   "mimetype": "text/x-python",
   "name": "python",
   "nbconvert_exporter": "python",
   "pygments_lexer": "ipython3",
   "version": "3.8.3-candidate"
  },
  "orig_nbformat": 2,
  "kernelspec": {
   "name": "python38364bitc04a41967368452b9e004fdace387d2f",
   "display_name": "Python 3.8.3 64-bit"
  }
 },
 "nbformat": 4,
 "nbformat_minor": 2,
 "cells": [
  {
   "source": [
    "+ 当你希望使用某个类，但是其接口与其他代码不兼容时，可以使用适配器类。\n",
    "> - 适配器模式允许你创建一个中间层类，其可作为代码与遗留类、第三方类或提供怪异接口的类之间的转换器。\n",
    "+ 如果您需要复用这样一些类，他们处于同一个继承体系，并且他们又有了额外的一些共同的方法，但是这些共同的方法不是所有在这一继承体系中的子类所具有的共性。\n",
    "> - 你可以扩展每个子类，将缺少的功能添加到新的子类中。但是，你必须在所有新子类中重复添加这些代码，这样会使得代码有坏味道。  \n",
    "> - 将缺失功能添加到一个适配器类中是一种优雅得多的解决方案。然后你可以将缺少功能的对象封装在适配器中，从而动态地获取所需功能。如要这一点正常运作。目标类必须要有通用接口，适配器的成员变量应当遵循该通用接口。这种方式同装饰模式非常相似"
   ],
   "cell_type": "markdown",
   "metadata": {}
  },
  {
   "cell_type": "code",
   "execution_count": 2,
   "metadata": {},
   "outputs": [],
   "source": [
    "class Target:\n",
    "    \"\"\"\n",
    "    The Target defines the domain-specific interface used by the client code.\n",
    "    \"\"\"\n",
    "\n",
    "    def request(self) -> str:\n",
    "        return \"Target: The default target's behavior.\"\n",
    "\n",
    "class Adaptee:\n",
    "    \"\"\"\n",
    "    The Adaptee contains some useful behavior, but its interface is incompatible\n",
    "    with the existing client code. The Adaptee needs some adaptation before the\n",
    "    client code can use it.\n",
    "    \"\"\"\n",
    "\n",
    "    def specific_request(self) -> str:\n",
    "        return \".eetpadA eht fo roivaheb laicepS\""
   ]
  },
  {
   "cell_type": "code",
   "execution_count": 3,
   "metadata": {},
   "outputs": [],
   "source": [
    "class Adapter(Target, Adaptee):\n",
    "    \"\"\"\n",
    "    The Adapter makes the Adaptee's interface compatible with the Target's\n",
    "    interface via multiple inheritance.\n",
    "    \"\"\"\n",
    "\n",
    "    def request(self) -> str:\n",
    "        return f\"Adapter: (TRANSLATED) {self.specific_request()[::-1]}\"\n",
    "\n",
    "\n",
    "def client_code(target: \"Target\") -> None:\n",
    "    \"\"\"\n",
    "    The client code supports all classes that follow the Target interface.\n",
    "    \"\"\"\n",
    "\n",
    "    print(target.request(), end=\"\")\n"
   ]
  },
  {
   "cell_type": "code",
   "execution_count": 4,
   "metadata": {},
   "outputs": [
    {
     "output_type": "stream",
     "name": "stdout",
     "text": [
      "Client: I can work just fine with the Target objects:\nTarget: The default target's behavior.\n\nClient: The Adaptee class has a weird interface. See, I don't understand it:\nAdaptee: .eetpadA eht fo roivaheb laicepS\n\nClient: But I can work with it via the Adapter:\nAdapter: (TRANSLATED) Special behavior of the Adaptee."
     ]
    }
   ],
   "source": [
    "print(\"Client: I can work just fine with the Target objects:\")\n",
    "target = Target()\n",
    "client_code(target)\n",
    "print(\"\\n\")\n",
    "\n",
    "adaptee = Adaptee()\n",
    "print(\"Client: The Adaptee class has a weird interface. \"\n",
    "        \"See, I don't understand it:\")\n",
    "print(f\"Adaptee: {adaptee.specific_request()}\", end=\"\\n\\n\")\n",
    "\n",
    "print(\"Client: But I can work with it via the Adapter:\")\n",
    "adapter = Adapter()\n",
    "client_code(adapter)"
   ]
  },
  {
   "source": [
    "# 桥接模式\n",
    "+ 如果你想要拆分或重组一个具有多重功能的庞杂类 （例如能与多个数据库服务器进行交互的类）， 可以使用桥接模式。\n",
    "\n",
    "> - 类的代码行数越多， 弄清其运作方式就越困难， 对其进行修改所花费的时间就越长。 一个功能上的变化可能需要在整个类范围内进行修改， 而且常常会产生错误,甚至还会有一些严重的副作用。\n",
    "\n",
    "> - 桥接模式可以将庞杂类拆分为几个类层次结构。 此后， 你可以修改任意一个类层次结构而不会影响到其他类层次结构。 这种方法可以简化代码的维护工作， 并将修改已有代码的风险降到最低。\n",
    "\n",
    "+ 如果你希望在几个独立维度上扩展一个类， 可使用该模式。\n",
    "\n",
    "> 桥接建议将每个维度抽取为独立的类层次。 初始类将相关工作委派给属于对应类层次的对象， 无需自己完成所有工作。\n",
    "\n",
    " + 如果你需要在运行时切换不同实现方法， 可使用桥接模式。\n",
    "\n",
    "> - 当然并不是说一定要实现这一点， 桥接模式可替换抽象部分中的实现对象， 具体操作就和给成员变量赋新值一样简单。\n",
    "\n",
    "> - 顺便提一句， 最后一点是很多人混淆桥接模式和策略模式的主要原因。 记住， 设计模式并不仅是一种对类进行组织的方式， 它还能用于沟通意图和解决问题。 "
   ],
   "cell_type": "markdown",
   "metadata": {}
  },
  {
   "source": [
    "1. 明确类中独立的维度。 独立的概念可能是： 抽象/平台， 域/基础设施， 前端/后端或接口/实现。\n",
    "\n",
    "2. 了解客户端的业务需求， 并在抽象基类中定义它们。\n",
    "\n",
    "3. 确定在所有平台上都可执行的业务。 并在通用实现接口中声明抽象部分所需的业务。\n",
    "\n",
    "4. 为你域内的所有平台创建实现类， 但需确保它们遵循实现部分的接口。\n",
    "\n",
    "5. 在抽象类中添加指向实现类型的引用成员变量。 抽象部分会将大部分工作委派给该成员变量所指向的实现对象。\n",
    "\n",
    "6. 如果你的高层逻辑有多个变体， 则可通过扩展抽象基类为每个变体创建一个精确抽象。\n",
    "\n",
    "7. 客户端代码必须将实现对象传递给抽象部分的构造函数才能使其能够相互关联。 此后， 客户端只需与抽象对象进行交互， 无需和实现对象打交道。"
   ],
   "cell_type": "markdown",
   "metadata": {}
  },
  {
   "cell_type": "code",
   "execution_count": 1,
   "metadata": {},
   "outputs": [
    {
     "output_type": "stream",
     "name": "stdout",
     "text": [
      "Abstraction: Base operation with:\nConcreteImplementationA: Here's the result on the platform A.\n\nExtendedAbstraction: Extended operation with:\nConcreteImplementationB: Here's the result on the platform B."
     ]
    }
   ],
   "source": [
    "from __future__ import annotations\n",
    "from abc import ABC, abstractmethod\n",
    "\n",
    "\n",
    "class Abstraction:\n",
    "    \"\"\"\n",
    "    The Abstraction defines the interface for the \"control\" part of the two\n",
    "    class hierarchies. It maintains a reference to an object of the\n",
    "    Implementation hierarchy and delegates all of the real work to this object.\n",
    "    \"\"\"\n",
    "\n",
    "    def __init__(self, implementation: Implementation) -> None:\n",
    "        self.implementation = implementation\n",
    "\n",
    "    def operation(self) -> str:\n",
    "        return (f\"Abstraction: Base operation with:\\n\"\n",
    "                f\"{self.implementation.operation_implementation()}\")\n",
    "\n",
    "\n",
    "class ExtendedAbstraction(Abstraction):\n",
    "    \"\"\"\n",
    "    You can extend the Abstraction without changing the Implementation classes.\n",
    "    \"\"\"\n",
    "\n",
    "    def operation(self) -> str:\n",
    "        return (f\"ExtendedAbstraction: Extended operation with:\\n\"\n",
    "                f\"{self.implementation.operation_implementation()}\")\n",
    "\n",
    "\n",
    "class Implementation(ABC):\n",
    "    \"\"\"\n",
    "    The Implementation defines the interface for all implementation classes. It\n",
    "    doesn't have to match the Abstraction's interface. In fact, the two\n",
    "    interfaces can be entirely different. Typically the Implementation interface\n",
    "    provides only primitive operations, while the Abstraction defines higher-\n",
    "    level operations based on those primitives.\n",
    "    \"\"\"\n",
    "\n",
    "    @abstractmethod\n",
    "    def operation_implementation(self) -> str:\n",
    "        pass\n",
    "\n",
    "\n",
    "\"\"\"\n",
    "Each Concrete Implementation corresponds to a specific platform and implements\n",
    "the Implementation interface using that platform's API.\n",
    "\"\"\"\n",
    "\n",
    "\n",
    "class ConcreteImplementationA(Implementation):\n",
    "    def operation_implementation(self) -> str:\n",
    "        return \"ConcreteImplementationA: Here's the result on the platform A.\"\n",
    "\n",
    "\n",
    "class ConcreteImplementationB(Implementation):\n",
    "    def operation_implementation(self) -> str:\n",
    "        return \"ConcreteImplementationB: Here's the result on the platform B.\"\n",
    "\n",
    "\n",
    "def client_code(abstraction: Abstraction) -> None:\n",
    "    \"\"\"\n",
    "    Except for the initialization phase, where an Abstraction object gets linked\n",
    "    with a specific Implementation object, the client code should only depend on\n",
    "    the Abstraction class. This way the client code can support any abstraction-\n",
    "    implementation combination.\n",
    "    \"\"\"\n",
    "\n",
    "    # ...\n",
    "\n",
    "    print(abstraction.operation(), end=\"\")\n",
    "\n",
    "    # ...\n",
    "\n",
    "\n",
    "if __name__ == \"__main__\":\n",
    "    \"\"\"\n",
    "    The client code should be able to work with any pre-configured abstraction-\n",
    "    implementation combination.\n",
    "    \"\"\"\n",
    "\n",
    "    implementation = ConcreteImplementationA()\n",
    "    abstraction = Abstraction(implementation)\n",
    "    client_code(abstraction)\n",
    "\n",
    "    print(\"\\n\")\n",
    "\n",
    "    implementation = ConcreteImplementationB()\n",
    "    abstraction = ExtendedAbstraction(implementation)\n",
    "    client_code(abstraction)"
   ]
  },
  {
   "cell_type": "code",
   "execution_count": null,
   "metadata": {},
   "outputs": [],
   "source": []
  }
 ]
}